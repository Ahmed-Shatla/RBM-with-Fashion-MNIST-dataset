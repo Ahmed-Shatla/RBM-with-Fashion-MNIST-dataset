{
  "nbformat": 4,
  "nbformat_minor": 0,
  "metadata": {
    "colab": {
      "name": "RBM with fashion MNIST.ipynb",
      "provenance": [],
      "authorship_tag": "ABX9TyN4C9SMEYboyrrgChQtxC7w",
      "include_colab_link": true
    },
    "kernelspec": {
      "name": "python3",
      "display_name": "Python 3"
    },
    "language_info": {
      "name": "python"
    },
    "accelerator": "TPU"
  },
  "cells": [
    {
      "cell_type": "markdown",
      "metadata": {
        "id": "view-in-github",
        "colab_type": "text"
      },
      "source": [
        "<a href=\"https://colab.research.google.com/github/Ahmed-Shatla/RBM-with-Fashion-MNIST-dataset/blob/main/RBM_with_fashion_MNIST.ipynb\" target=\"_parent\"><img src=\"https://colab.research.google.com/assets/colab-badge.svg\" alt=\"Open In Colab\"/></a>"
      ]
    },
    {
      "cell_type": "code",
      "execution_count": 1,
      "metadata": {
        "id": "yKiLDFj8ZlC8"
      },
      "outputs": [],
      "source": [
        "from sklearn.neural_network import BernoulliRBM\n",
        "import tensorflow as tf\n",
        "import matplotlib.pyplot as plt"
      ]
    },
    {
      "cell_type": "code",
      "source": [
        "(X_train, y_train), (X_test, y_test) = tf.keras.datasets.fashion_mnist.load_data()"
      ],
      "metadata": {
        "id": "QFtxtYLy10f1"
      },
      "execution_count": 2,
      "outputs": []
    },
    {
      "cell_type": "code",
      "source": [
        "X_train = X_train.reshape(X_train.shape[0],-1)/255\n",
        "X_test = X_test.reshape(X_test.shape[0],-1)/255"
      ],
      "metadata": {
        "id": "F0fa0sDU2Ge5"
      },
      "execution_count": 3,
      "outputs": []
    },
    {
      "cell_type": "code",
      "source": [
        "X_train.shape"
      ],
      "metadata": {
        "colab": {
          "base_uri": "https://localhost:8080/"
        },
        "id": "DDYbGafd3j0S",
        "outputId": "8edd6a31-5aee-4925-ccc2-41d95df95324"
      },
      "execution_count": 4,
      "outputs": [
        {
          "output_type": "execute_result",
          "data": {
            "text/plain": [
              "(60000, 784)"
            ]
          },
          "metadata": {},
          "execution_count": 4
        }
      ]
    },
    {
      "cell_type": "code",
      "source": [
        "X_train[0].shape"
      ],
      "metadata": {
        "id": "NKFhkRZW144l",
        "outputId": "a433b024-4ba2-48f4-dfc7-9e45fb30af9e",
        "colab": {
          "base_uri": "https://localhost:8080/"
        }
      },
      "execution_count": 5,
      "outputs": [
        {
          "output_type": "execute_result",
          "data": {
            "text/plain": [
              "(784,)"
            ]
          },
          "metadata": {},
          "execution_count": 5
        }
      ]
    },
    {
      "cell_type": "code",
      "source": [
        "model_RBM = BernoulliRBM(n_components=1024,n_iter=20,batch_size=128,verbose=1)\n",
        "model_RBM.fit(X_train)"
      ],
      "metadata": {
        "id": "RtBUkzea2VSO",
        "outputId": "8fb0cb12-d3bd-4d28-f35c-cc301afd72cd",
        "colab": {
          "base_uri": "https://localhost:8080/"
        }
      },
      "execution_count": 6,
      "outputs": [
        {
          "output_type": "stream",
          "name": "stdout",
          "text": [
            "[BernoulliRBM] Iteration 1, pseudo-likelihood = -237.64, time = 47.00s\n",
            "[BernoulliRBM] Iteration 2, pseudo-likelihood = -227.96, time = 48.46s\n",
            "[BernoulliRBM] Iteration 3, pseudo-likelihood = -214.86, time = 49.18s\n",
            "[BernoulliRBM] Iteration 4, pseudo-likelihood = -214.17, time = 48.36s\n",
            "[BernoulliRBM] Iteration 5, pseudo-likelihood = -209.54, time = 48.08s\n",
            "[BernoulliRBM] Iteration 6, pseudo-likelihood = -204.29, time = 48.24s\n",
            "[BernoulliRBM] Iteration 7, pseudo-likelihood = -205.42, time = 48.12s\n",
            "[BernoulliRBM] Iteration 8, pseudo-likelihood = -201.64, time = 48.16s\n",
            "[BernoulliRBM] Iteration 9, pseudo-likelihood = -200.31, time = 48.35s\n",
            "[BernoulliRBM] Iteration 10, pseudo-likelihood = -198.55, time = 48.41s\n",
            "[BernoulliRBM] Iteration 11, pseudo-likelihood = -195.51, time = 48.27s\n",
            "[BernoulliRBM] Iteration 12, pseudo-likelihood = -200.65, time = 48.01s\n",
            "[BernoulliRBM] Iteration 13, pseudo-likelihood = -199.41, time = 48.00s\n",
            "[BernoulliRBM] Iteration 14, pseudo-likelihood = -199.44, time = 48.12s\n",
            "[BernoulliRBM] Iteration 15, pseudo-likelihood = -199.84, time = 48.07s\n",
            "[BernoulliRBM] Iteration 16, pseudo-likelihood = -198.85, time = 48.58s\n",
            "[BernoulliRBM] Iteration 17, pseudo-likelihood = -202.56, time = 48.73s\n",
            "[BernoulliRBM] Iteration 18, pseudo-likelihood = -196.44, time = 48.61s\n",
            "[BernoulliRBM] Iteration 19, pseudo-likelihood = -196.24, time = 48.45s\n",
            "[BernoulliRBM] Iteration 20, pseudo-likelihood = -197.36, time = 48.29s\n"
          ]
        },
        {
          "output_type": "execute_result",
          "data": {
            "text/plain": [
              "BernoulliRBM(batch_size=128, n_components=1024, n_iter=20, verbose=1)"
            ]
          },
          "metadata": {},
          "execution_count": 6
        }
      ]
    },
    {
      "cell_type": "code",
      "source": [
        "pred = model_RBM.score_samples(X_test)\n",
        "pred.shape"
      ],
      "metadata": {
        "id": "bQkhjtLry6vX",
        "outputId": "c2087c00-e26c-4479-8c3a-a386c9b4a1c3",
        "colab": {
          "base_uri": "https://localhost:8080/"
        }
      },
      "execution_count": 7,
      "outputs": [
        {
          "output_type": "execute_result",
          "data": {
            "text/plain": [
              "(10000,)"
            ]
          },
          "metadata": {},
          "execution_count": 7
        }
      ]
    },
    {
      "cell_type": "code",
      "source": [
        "pred.mean()"
      ],
      "metadata": {
        "id": "w9O0Wu617hun",
        "outputId": "fe041e47-7df7-4d9d-c198-258da4d286f0",
        "colab": {
          "base_uri": "https://localhost:8080/"
        }
      },
      "execution_count": 8,
      "outputs": [
        {
          "output_type": "execute_result",
          "data": {
            "text/plain": [
              "-199.426365505913"
            ]
          },
          "metadata": {},
          "execution_count": 8
        }
      ]
    },
    {
      "cell_type": "code",
      "source": [
        "plt.imshow(model_RBM.gibbs(X_train[0]).reshape((28,28)),cmap='gray')\n"
      ],
      "metadata": {
        "id": "ARl11UbduM_x",
        "outputId": "5c36833a-5249-4ef2-eb4e-1e7ad82fd288",
        "colab": {
          "base_uri": "https://localhost:8080/",
          "height": 282
        }
      },
      "execution_count": 9,
      "outputs": [
        {
          "output_type": "execute_result",
          "data": {
            "text/plain": [
              "<matplotlib.image.AxesImage at 0x7fca623f9650>"
            ]
          },
          "metadata": {},
          "execution_count": 9
        },
        {
          "output_type": "display_data",
          "data": {
            "text/plain": [
              "<Figure size 432x288 with 1 Axes>"
            ],
            "image/png": "[encoded data removed]"
          },
          "metadata": {
            "needs_background": "light"
          }
        }
      ]
    },
    {
      "cell_type": "code",
      "source": [
        "plt.imshow(X_train[0].reshape((28,28)),cmap='gray')"
      ],
      "metadata": {
        "id": "j0b__C3Mwt0p",
        "outputId": "5cb84d0b-f5ec-478c-eaab-8048b77c29f0",
        "colab": {
          "base_uri": "https://localhost:8080/",
          "height": 282
        }
      },
      "execution_count": 10,
      "outputs": [
        {
          "output_type": "execute_result",
          "data": {
            "text/plain": [
              "<matplotlib.image.AxesImage at 0x7fca61edb7d0>"
            ]
          },
          "metadata": {},
          "execution_count": 10
        },
        {
          "output_type": "display_data",
          "data": {
            "text/plain": [
              "<Figure size 432x288 with 1 Axes>"
            ],
            "image/png": "[encoded data removed]"
          },
          "metadata": {
            "needs_background": "light"
          }
        }
      ]
    },
    {
      "cell_type": "code",
      "source": [
        "X_train_generated = model_RBM.gibbs(X_train)"
      ],
      "metadata": {
        "id": "hsatXXXR09jA"
      },
      "execution_count": 11,
      "outputs": []
    },
    {
      "cell_type": "code",
      "source": [
        "y_train.shape"
      ],
      "metadata": {
        "id": "WZFeZzt72wXd",
        "outputId": "ca54c685-804e-48f3-d22a-ea1e77ad7d40",
        "colab": {
          "base_uri": "https://localhost:8080/"
        }
      },
      "execution_count": 12,
      "outputs": [
        {
          "output_type": "execute_result",
          "data": {
            "text/plain": [
              "(60000,)"
            ]
          },
          "metadata": {},
          "execution_count": 12
        }
      ]
    },
    {
      "cell_type": "code",
      "source": [
        "from sklearn.preprocessing import LabelEncoder\n",
        "lb = LabelEncoder()\n",
        "y_train = lb.fit_transform(y_train)\n",
        "y_test = lb.fit_transform(y_test)"
      ],
      "metadata": {
        "id": "bWGWVBAk21Qw"
      },
      "execution_count": 13,
      "outputs": []
    },
    {
      "cell_type": "code",
      "source": [
        "from tensorflow.keras.utils import to_categorical\n",
        "y_train = to_categorical(y_train)\n",
        "y_test = to_categorical(y_test)"
      ],
      "metadata": {
        "id": "h3zJ9RpE229s"
      },
      "execution_count": 14,
      "outputs": []
    },
    {
      "cell_type": "code",
      "source": [
        "from tensorflow.keras import Sequential\n",
        "from tensorflow.keras.layers import Dense,Dropout,Activation,Flatten"
      ],
      "metadata": {
        "id": "UhPwtw7X1lQN"
      },
      "execution_count": 15,
      "outputs": []
    },
    {
      "cell_type": "code",
      "source": [
        "model = Sequential()\n",
        "\n",
        "model.add(Dense(units=128,input_shape=(784,),activation='relu'))\n",
        "\n",
        "model.add(Dense(units=512,activation='relu'))\n",
        "\n",
        "model.add(Dense(units=128,activation='relu'))\n",
        "\n",
        "model.add(Dense(38,activation = 'softmax'))\n",
        "\n",
        "\n",
        "\n",
        "model.add(Dense(10,activation = 'softmax'))\n",
        "model.summary()"
      ],
      "metadata": {
        "id": "kV6-ksID1xhN",
        "outputId": "82634faf-aa9c-4d89-b72f-fea2282fc169",
        "colab": {
          "base_uri": "https://localhost:8080/"
        }
      },
      "execution_count": 16,
      "outputs": [
        {
          "output_type": "stream",
          "name": "stdout",
          "text": [
            "Model: \"sequential\"\n",
            "_________________________________________________________________\n",
            " Layer (type)                Output Shape              Param #   \n",
            "=================================================================\n",
            " dense (Dense)               (None, 128)               100480    \n",
            "                                                                 \n",
            " dense_1 (Dense)             (None, 512)               66048     \n",
            "                                                                 \n",
            " dense_2 (Dense)             (None, 128)               65664     \n",
            "                                                                 \n",
            " dense_3 (Dense)             (None, 38)                4902      \n",
            "                                                                 \n",
            " dense_4 (Dense)             (None, 10)                390       \n",
            "                                                                 \n",
            "=================================================================\n",
            "Total params: 237,484\n",
            "Trainable params: 237,484\n",
            "Non-trainable params: 0\n",
            "_________________________________________________________________\n"
          ]
        }
      ]
    },
    {
      "cell_type": "code",
      "source": [
        "model.compile(optimizer = 'adam', loss = 'categorical_crossentropy',metrics = ['accuracy'])\n"
      ],
      "metadata": {
        "id": "AbZTfrmO2DmQ"
      },
      "execution_count": 17,
      "outputs": []
    },
    {
      "cell_type": "code",
      "source": [
        "history = model.fit(X_train_generated,y_train,batch_size=32,epochs=20,verbose=1,validation_split=0.1)"
      ],
      "metadata": {
        "id": "aQRC72V02My-",
        "outputId": "a35c0f8c-14ed-466a-8e4c-1cd39149fa09",
        "colab": {
          "base_uri": "https://localhost:8080/"
        }
      },
      "execution_count": 19,
      "outputs": [
        {
          "output_type": "stream",
          "name": "stdout",
          "text": [
            "Epoch 1/20\n",
            "1688/1688 [==============================] - 11s 6ms/step - loss: 0.4025 - accuracy: 0.8654 - val_loss: 0.6361 - val_accuracy: 0.7847\n",
            "Epoch 2/20\n",
            "1688/1688 [==============================] - 11s 6ms/step - loss: 0.3766 - accuracy: 0.8737 - val_loss: 0.6688 - val_accuracy: 0.7798\n",
            "Epoch 3/20\n",
            "1688/1688 [==============================] - 9s 5ms/step - loss: 0.3554 - accuracy: 0.8820 - val_loss: 0.6913 - val_accuracy: 0.7810\n",
            "Epoch 4/20\n",
            "1688/1688 [==============================] - 9s 5ms/step - loss: 0.3325 - accuracy: 0.8909 - val_loss: 0.7252 - val_accuracy: 0.7787\n",
            "Epoch 5/20\n",
            "1688/1688 [==============================] - 10s 6ms/step - loss: 0.3138 - accuracy: 0.8980 - val_loss: 0.7370 - val_accuracy: 0.7708\n",
            "Epoch 6/20\n",
            "1688/1688 [==============================] - 10s 6ms/step - loss: 0.2991 - accuracy: 0.9022 - val_loss: 0.7679 - val_accuracy: 0.7713\n",
            "Epoch 7/20\n",
            "1688/1688 [==============================] - 8s 5ms/step - loss: 0.2835 - accuracy: 0.9087 - val_loss: 0.7737 - val_accuracy: 0.7703\n",
            "Epoch 8/20\n",
            "1688/1688 [==============================] - 8s 5ms/step - loss: 0.2704 - accuracy: 0.9140 - val_loss: 0.7867 - val_accuracy: 0.7747\n",
            "Epoch 9/20\n",
            "1688/1688 [==============================] - 8s 5ms/step - loss: 0.2562 - accuracy: 0.9188 - val_loss: 0.8109 - val_accuracy: 0.7705\n",
            "Epoch 10/20\n",
            "1688/1688 [==============================] - 9s 5ms/step - loss: 0.2461 - accuracy: 0.9221 - val_loss: 0.8131 - val_accuracy: 0.7737\n",
            "Epoch 11/20\n",
            "1688/1688 [==============================] - 9s 5ms/step - loss: 0.2369 - accuracy: 0.9260 - val_loss: 0.8327 - val_accuracy: 0.7667\n",
            "Epoch 12/20\n",
            "1688/1688 [==============================] - 8s 5ms/step - loss: 0.2259 - accuracy: 0.9301 - val_loss: 0.8425 - val_accuracy: 0.7677\n",
            "Epoch 13/20\n",
            "1688/1688 [==============================] - 8s 5ms/step - loss: 0.2152 - accuracy: 0.9336 - val_loss: 0.8617 - val_accuracy: 0.7682\n",
            "Epoch 14/20\n",
            "1688/1688 [==============================] - 10s 6ms/step - loss: 0.2069 - accuracy: 0.9364 - val_loss: 0.8749 - val_accuracy: 0.7685\n",
            "Epoch 15/20\n",
            "1688/1688 [==============================] - 11s 7ms/step - loss: 0.2001 - accuracy: 0.9386 - val_loss: 0.8696 - val_accuracy: 0.7735\n",
            "Epoch 16/20\n",
            "1688/1688 [==============================] - 9s 5ms/step - loss: 0.1928 - accuracy: 0.9423 - val_loss: 0.9067 - val_accuracy: 0.7665\n",
            "Epoch 17/20\n",
            "1688/1688 [==============================] - 8s 5ms/step - loss: 0.1849 - accuracy: 0.9444 - val_loss: 0.9301 - val_accuracy: 0.7707\n",
            "Epoch 18/20\n",
            "1688/1688 [==============================] - 8s 5ms/step - loss: 0.1794 - accuracy: 0.9463 - val_loss: 0.9604 - val_accuracy: 0.7638\n",
            "Epoch 19/20\n",
            "1688/1688 [==============================] - 8s 5ms/step - loss: 0.1716 - accuracy: 0.9493 - val_loss: 0.9621 - val_accuracy: 0.7668\n",
            "Epoch 20/20\n",
            "1688/1688 [==============================] - 9s 5ms/step - loss: 0.1691 - accuracy: 0.9498 - val_loss: 0.9287 - val_accuracy: 0.7697\n"
          ]
        }
      ]
    },
    {
      "cell_type": "code",
      "source": [
        "plt.plot(history.history['accuracy'])\n",
        "plt.plot(history.history['val_accuracy'])\n",
        "plt.legend(['training_accuracy','Val_accuracy'])\n",
        "plt.title('accuracy')\n",
        "plt.xlabel('epochs')"
      ],
      "metadata": {
        "id": "0uOjHqVJ4YvP",
        "outputId": "062dd162-a283-458b-fd74-0e7c17372659",
        "colab": {
          "base_uri": "https://localhost:8080/",
          "height": 312
        }
      },
      "execution_count": 20,
      "outputs": [
        {
          "output_type": "execute_result",
          "data": {
            "text/plain": [
              "Text(0.5, 0, 'epochs')"
            ]
          },
          "metadata": {},
          "execution_count": 20
        },
        {
          "output_type": "display_data",
          "data": {
            "text/plain": [
              "<Figure size 432x288 with 1 Axes>"
            ],
            "image/png": "[encoded data removed]"
          },
          "metadata": {
            "needs_background": "light"
          }
        }
      ]
    },
    {
      "cell_type": "code",
      "source": [
        "plt.plot(history.history['loss'])\n",
        "plt.plot(history.history['val_loss'])\n",
        "plt.legend(['training_Loss','Val_Loss'])\n",
        "plt.title('Loss')\n",
        "plt.xlabel('epochs')"
      ],
      "metadata": {
        "id": "N9FEuwCq4ZG8",
        "outputId": "e51bd0d4-9adf-4797-afc2-b26ded3ae090",
        "colab": {
          "base_uri": "https://localhost:8080/",
          "height": 312
        }
      },
      "execution_count": 21,
      "outputs": [
        {
          "output_type": "execute_result",
          "data": {
            "text/plain": [
              "Text(0.5, 0, 'epochs')"
            ]
          },
          "metadata": {},
          "execution_count": 21
        },
        {
          "output_type": "display_data",
          "data": {
            "text/plain": [
              "<Figure size 432x288 with 1 Axes>"
            ],
            "image/png": "[encoded data removed]"
          },
          "metadata": {
            "needs_background": "light"
          }
        }
      ]
    },
    {
      "cell_type": "code",
      "source": [
        "X_test.shape"
      ],
      "metadata": {
        "id": "IwdrgtEW5Kq3",
        "outputId": "2ae3e7e3-e2ce-4784-acc6-72ad245d5818",
        "colab": {
          "base_uri": "https://localhost:8080/"
        }
      },
      "execution_count": 22,
      "outputs": [
        {
          "output_type": "execute_result",
          "data": {
            "text/plain": [
              "(10000, 784)"
            ]
          },
          "metadata": {},
          "execution_count": 22
        }
      ]
    },
    {
      "cell_type": "code",
      "source": [
        "model.evaluate(X_test,y_test)"
      ],
      "metadata": {
        "id": "vET_xHCC5HHE",
        "outputId": "2ba54399-d286-4d73-c37f-36ee83692569",
        "colab": {
          "base_uri": "https://localhost:8080/"
        }
      },
      "execution_count": 23,
      "outputs": [
        {
          "output_type": "stream",
          "name": "stdout",
          "text": [
            "313/313 [==============================] - 1s 3ms/step - loss: 0.6639 - accuracy: 0.8119\n"
          ]
        },
        {
          "output_type": "execute_result",
          "data": {
            "text/plain": [
              "[0.6638708114624023, 0.8119000196456909]"
            ]
          },
          "metadata": {},
          "execution_count": 23
        }
      ]
    }
  ]
}