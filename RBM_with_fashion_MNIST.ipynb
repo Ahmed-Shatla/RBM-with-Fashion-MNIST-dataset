{
  "nbformat": 4,
  "nbformat_minor": 0,
  "metadata": {
    "colab": {
      "name": "RBM with fashion MNIST.ipynb",
      "provenance": [],
      "authorship_tag": "ABX9TyMplm3iUt+0JHpN+y4BoiB4",
      "include_colab_link": true
    },
    "kernelspec": {
      "name": "python3",
      "display_name": "Python 3"
    },
    "language_info": {
      "name": "python"
    },
    "accelerator": "TPU"
  },
  "cells": [
    {
      "cell_type": "markdown",
      "metadata": {
        "id": "view-in-github",
        "colab_type": "text"
      },
      "source": [
        "<a href=\"https://colab.research.google.com/github/Ahmed-Shatla/RBM-with-Fashion-MNIST-dataset/blob/main/RBM_with_fashion_MNIST.ipynb\" target=\"_parent\"><img src=\"https://colab.research.google.com/assets/colab-badge.svg\" alt=\"Open In Colab\"/></a>"
      ]
    },
    {
      "cell_type": "code",
      "execution_count": 1,
      "metadata": {
        "id": "yKiLDFj8ZlC8"
      },
      "outputs": [],
      "source": [
        "from sklearn.neural_network import BernoulliRBM\n",
        "import tensorflow as tf\n",
        "import matplotlib.pyplot as plt"
      ]
    },
    {
      "cell_type": "code",
      "source": [
        "(X_train, y_train), (X_test, y_test) = tf.keras.datasets.fashion_mnist.load_data()"
      ],
      "metadata": {
        "id": "QFtxtYLy10f1"
      },
      "execution_count": 2,
      "outputs": []
    },
    {
      "cell_type": "code",
      "source": [
        "X_train = X_train.reshape(X_train.shape[0],-1)/255\n",
        "X_test = X_test.reshape(X_test.shape[0],-1)/255"
      ],
      "metadata": {
        "id": "F0fa0sDU2Ge5"
      },
      "execution_count": 3,
      "outputs": []
    },
    {
      "cell_type": "code",
      "source": [
        "X_train.shape"
      ],
      "metadata": {
        "colab": {
          "base_uri": "https://localhost:8080/"
        },
        "id": "DDYbGafd3j0S",
        "outputId": "048f235b-a7c5-45e8-93eb-50b2e2943204"
      },
      "execution_count": 6,
      "outputs": [
        {
          "output_type": "execute_result",
          "data": {
            "text/plain": [
              "(60000, 784)"
            ]
          },
          "metadata": {},
          "execution_count": 6
        }
      ]
    },
    {
      "cell_type": "code",
      "source": [
        "model = BernoulliRBM(n_components=256,n_iter=10,batch_size=)"
      ],
      "metadata": {
        "id": "RtBUkzea2VSO"
      },
      "execution_count": 3,
      "outputs": []
    }
  ]
}