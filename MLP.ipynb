{
  "nbformat": 4,
  "nbformat_minor": 0,
  "metadata": {
    "colab": {
      "name": "MLP.ipynb",
      "provenance": [],
      "authorship_tag": "ABX9TyMrbHU9PAm2CNd8HNxDFTlf",
      "include_colab_link": true
    },
    "kernelspec": {
      "name": "python3",
      "display_name": "Python 3"
    },
    "language_info": {
      "name": "python"
    },
    "accelerator": "TPU"
  },
  "cells": [
    {
      "cell_type": "markdown",
      "metadata": {
        "id": "view-in-github",
        "colab_type": "text"
      },
      "source": [
        "<a href=\"https://colab.research.google.com/github/Ahmed-Shatla/RBM-with-Fashion-MNIST-dataset/blob/main/MLP.ipynb\" target=\"_parent\"><img src=\"https://colab.research.google.com/assets/colab-badge.svg\" alt=\"Open In Colab\"/></a>"
      ]
    },
    {
      "cell_type": "code",
      "execution_count": 1,
      "metadata": {
        "id": "Q9uUm9AX3S21"
      },
      "outputs": [],
      "source": [
        "from sklearn.neural_network import BernoulliRBM\n",
        "import tensorflow as tf\n",
        "import matplotlib.pyplot as plt"
      ]
    },
    {
      "cell_type": "code",
      "source": [
        "(X_train, y_train), (X_test, y_test) = tf.keras.datasets.fashion_mnist.load_data()"
      ],
      "metadata": {
        "id": "Z4eWpzid3jn1"
      },
      "execution_count": 2,
      "outputs": []
    },
    {
      "cell_type": "code",
      "source": [
        "X_train = X_train.reshape(X_train.shape[0],-1)/255\n",
        "X_test = X_test.reshape(X_test.shape[0],-1)/255"
      ],
      "metadata": {
        "id": "HBbrDOY73k17"
      },
      "execution_count": 3,
      "outputs": []
    },
    {
      "cell_type": "code",
      "source": [
        "from sklearn.preprocessing import LabelEncoder\n",
        "lb = LabelEncoder()\n",
        "y_train = lb.fit_transform(y_train)\n",
        "y_test = lb.fit_transform(y_test)"
      ],
      "metadata": {
        "id": "aoS62xdQ3mOt"
      },
      "execution_count": 4,
      "outputs": []
    },
    {
      "cell_type": "code",
      "source": [
        "from tensorflow.keras.utils import to_categorical\n",
        "y_train = to_categorical(y_train)\n",
        "y_test = to_categorical(y_test)"
      ],
      "metadata": {
        "id": "Q54xijxA3pQt"
      },
      "execution_count": 5,
      "outputs": []
    },
    {
      "cell_type": "code",
      "source": [
        "from tensorflow.keras import Sequential\n",
        "from tensorflow.keras.layers import Dense,Dropout,Activation,Flatten"
      ],
      "metadata": {
        "id": "Q-N8Bbcr3rYN"
      },
      "execution_count": 6,
      "outputs": []
    },
    {
      "cell_type": "code",
      "source": [
        "model = Sequential()\n",
        "\n",
        "model.add(Dense(units=128,input_shape=(784,),activation='relu'))\n",
        "\n",
        "model.add(Dense(units=512,activation='relu'))\n",
        "\n",
        "model.add(Dense(units=128,activation='relu'))\n",
        "\n",
        "model.add(Dense(38,activation = 'softmax'))\n",
        "\n",
        "\n",
        "\n",
        "model.add(Dense(10,activation = 'softmax'))\n",
        "model.summary()\n"
      ],
      "metadata": {
        "colab": {
          "base_uri": "https://localhost:8080/"
        },
        "id": "WFV-lb3F3th-",
        "outputId": "0b9b5abe-4e3b-4414-de0c-631e49d8752c"
      },
      "execution_count": 7,
      "outputs": [
        {
          "output_type": "stream",
          "name": "stdout",
          "text": [
            "Model: \"sequential\"\n",
            "_________________________________________________________________\n",
            " Layer (type)                Output Shape              Param #   \n",
            "=================================================================\n",
            " dense (Dense)               (None, 128)               100480    \n",
            "                                                                 \n",
            " dense_1 (Dense)             (None, 512)               66048     \n",
            "                                                                 \n",
            " dense_2 (Dense)             (None, 128)               65664     \n",
            "                                                                 \n",
            " dense_3 (Dense)             (None, 38)                4902      \n",
            "                                                                 \n",
            " dense_4 (Dense)             (None, 10)                390       \n",
            "                                                                 \n",
            "=================================================================\n",
            "Total params: 237,484\n",
            "Trainable params: 237,484\n",
            "Non-trainable params: 0\n",
            "_________________________________________________________________\n"
          ]
        }
      ]
    },
    {
      "cell_type": "code",
      "source": [
        "model.compile(optimizer = 'adam', loss = 'categorical_crossentropy',metrics = ['accuracy'])\n"
      ],
      "metadata": {
        "id": "6eqVG92T3xF2"
      },
      "execution_count": 8,
      "outputs": []
    },
    {
      "cell_type": "code",
      "source": [
        "history = model.fit(X_train,y_train,batch_size=32,epochs=20,verbose=1,validation_split=0.1)"
      ],
      "metadata": {
        "colab": {
          "base_uri": "https://localhost:8080/"
        },
        "id": "ybnxYdFq3yAv",
        "outputId": "be7e33b4-defa-4af9-d81f-24b677838cc4"
      },
      "execution_count": 9,
      "outputs": [
        {
          "output_type": "stream",
          "name": "stdout",
          "text": [
            "Epoch 1/20\n",
            "1688/1688 [==============================] - 16s 9ms/step - loss: 1.5967 - accuracy: 0.4300 - val_loss: 1.2871 - val_accuracy: 0.4678\n",
            "Epoch 2/20\n",
            "1688/1688 [==============================] - 9s 5ms/step - loss: 1.1765 - accuracy: 0.4942 - val_loss: 1.0551 - val_accuracy: 0.5835\n",
            "Epoch 3/20\n",
            "1688/1688 [==============================] - 9s 5ms/step - loss: 0.9228 - accuracy: 0.6397 - val_loss: 0.8399 - val_accuracy: 0.6713\n",
            "Epoch 4/20\n",
            "1688/1688 [==============================] - 8s 5ms/step - loss: 0.8000 - accuracy: 0.6645 - val_loss: 0.7670 - val_accuracy: 0.6855\n",
            "Epoch 5/20\n",
            "1688/1688 [==============================] - 9s 6ms/step - loss: 0.7291 - accuracy: 0.7345 - val_loss: 0.6924 - val_accuracy: 0.7683\n",
            "Epoch 6/20\n",
            "1688/1688 [==============================] - 9s 5ms/step - loss: 0.6198 - accuracy: 0.8080 - val_loss: 0.5653 - val_accuracy: 0.8440\n",
            "Epoch 7/20\n",
            "1688/1688 [==============================] - 9s 5ms/step - loss: 0.5008 - accuracy: 0.8608 - val_loss: 0.4776 - val_accuracy: 0.8687\n",
            "Epoch 8/20\n",
            "1688/1688 [==============================] - 9s 5ms/step - loss: 0.4361 - accuracy: 0.8742 - val_loss: 0.4365 - val_accuracy: 0.8718\n",
            "Epoch 9/20\n",
            "1688/1688 [==============================] - 9s 5ms/step - loss: 0.3884 - accuracy: 0.8855 - val_loss: 0.4042 - val_accuracy: 0.8770\n",
            "Epoch 10/20\n",
            "1688/1688 [==============================] - 9s 5ms/step - loss: 0.3623 - accuracy: 0.8901 - val_loss: 0.3995 - val_accuracy: 0.8752\n",
            "Epoch 11/20\n",
            "1688/1688 [==============================] - 9s 5ms/step - loss: 0.3394 - accuracy: 0.8932 - val_loss: 0.3819 - val_accuracy: 0.8798\n",
            "Epoch 12/20\n",
            "1688/1688 [==============================] - 10s 6ms/step - loss: 0.3202 - accuracy: 0.8976 - val_loss: 0.3680 - val_accuracy: 0.8830\n",
            "Epoch 13/20\n",
            "1688/1688 [==============================] - 9s 5ms/step - loss: 0.3067 - accuracy: 0.9007 - val_loss: 0.3639 - val_accuracy: 0.8798\n",
            "Epoch 14/20\n",
            "1688/1688 [==============================] - 8s 5ms/step - loss: 0.2940 - accuracy: 0.9036 - val_loss: 0.3680 - val_accuracy: 0.8847\n",
            "Epoch 15/20\n",
            "1688/1688 [==============================] - 9s 5ms/step - loss: 0.2854 - accuracy: 0.9059 - val_loss: 0.3644 - val_accuracy: 0.8792\n",
            "Epoch 16/20\n",
            "1688/1688 [==============================] - 8s 5ms/step - loss: 0.2752 - accuracy: 0.9087 - val_loss: 0.3550 - val_accuracy: 0.8840\n",
            "Epoch 17/20\n",
            "1688/1688 [==============================] - 9s 5ms/step - loss: 0.2633 - accuracy: 0.9112 - val_loss: 0.3666 - val_accuracy: 0.8847\n",
            "Epoch 18/20\n",
            "1688/1688 [==============================] - 8s 5ms/step - loss: 0.2624 - accuracy: 0.9115 - val_loss: 0.3558 - val_accuracy: 0.8885\n",
            "Epoch 19/20\n",
            "1688/1688 [==============================] - 9s 5ms/step - loss: 0.2515 - accuracy: 0.9142 - val_loss: 0.3770 - val_accuracy: 0.8845\n",
            "Epoch 20/20\n",
            "1688/1688 [==============================] - 8s 5ms/step - loss: 0.2494 - accuracy: 0.9148 - val_loss: 0.3318 - val_accuracy: 0.8887\n"
          ]
        }
      ]
    },
    {
      "cell_type": "code",
      "source": [
        "plt.plot(history.history['accuracy'])\n",
        "plt.plot(history.history['val_accuracy'])\n",
        "plt.legend(['training_accuracy','Val_accuracy'])\n",
        "plt.title('accuracy')\n",
        "plt.xlabel('epochs')"
      ],
      "metadata": {
        "colab": {
          "base_uri": "https://localhost:8080/",
          "height": 312
        },
        "id": "Sx3gaJxw4ac3",
        "outputId": "891f04da-866c-4267-d3ef-690e98fd33b9"
      },
      "execution_count": 10,
      "outputs": [
        {
          "output_type": "execute_result",
          "data": {
            "text/plain": [
              "Text(0.5, 0, 'epochs')"
            ]
          },
          "metadata": {},
          "execution_count": 10
        },
        {
          "output_type": "display_data",
          "data": {
            "text/plain": [
              "<Figure size 432x288 with 1 Axes>"
            ],
            "image/png": "[encoded data removed]"
          },
          "metadata": {
            "needs_background": "light"
          }
        }
      ]
    },
    {
      "cell_type": "code",
      "source": [
        "plt.plot(history.history['loss'])\n",
        "plt.plot(history.history['val_loss'])\n",
        "plt.legend(['training_Loss','Val_Loss'])\n",
        "plt.title('Loss')\n",
        "plt.xlabel('epochs')"
      ],
      "metadata": {
        "colab": {
          "base_uri": "https://localhost:8080/",
          "height": 312
        },
        "id": "pMy8GrWy4aad",
        "outputId": "53386f33-eebd-41fe-db5b-d6416e5ec070"
      },
      "execution_count": 11,
      "outputs": [
        {
          "output_type": "execute_result",
          "data": {
            "text/plain": [
              "Text(0.5, 0, 'epochs')"
            ]
          },
          "metadata": {},
          "execution_count": 11
        },
        {
          "output_type": "display_data",
          "data": {
            "text/plain": [
              "<Figure size 432x288 with 1 Axes>"
            ],
            "image/png": "[encoded data removed]"
          },
          "metadata": {
            "needs_background": "light"
          }
        }
      ]
    },
    {
      "cell_type": "code",
      "source": [
        "model.evaluate(X_test,y_test)"
      ],
      "metadata": {
        "colab": {
          "base_uri": "https://localhost:8080/"
        },
        "id": "ajk_IN3p35yF",
        "outputId": "e5e4570a-51e3-4014-90b1-e738c1e94a94"
      },
      "execution_count": 12,
      "outputs": [
        {
          "output_type": "stream",
          "name": "stdout",
          "text": [
            "313/313 [==============================] - 1s 2ms/step - loss: 0.3348 - accuracy: 0.8877\n"
          ]
        },
        {
          "output_type": "execute_result",
          "data": {
            "text/plain": [
              "[0.33478665351867676, 0.8877000212669373]"
            ]
          },
          "metadata": {},
          "execution_count": 12
        }
      ]
    }
  ]
}